{
 "cells": [
  {
   "cell_type": "markdown",
   "metadata": {},
   "source": [
    "# My Jupyter Notebook"
   ]
  },
  {
   "cell_type": "markdown",
   "metadata": {
    "tags": []
   },
   "source": [
    "## This is Jupyter Notebook for Graded Assignment\n",
    "## "
   ]
  },
  {
   "cell_type": "markdown",
   "metadata": {},
   "source": [
    "- Data science languages\n",
    "    * Python\n",
    "    * R\n",
    "    * Scala\n",
    "    * C++"
   ]
  },
  {
   "cell_type": "markdown",
   "metadata": {},
   "source": [
    "- Data science libraries\n",
    "    * Pandas\n",
    "    * Matplotlib\n",
    "    * TensorFlow\n",
    "    * Keras"
   ]
  },
  {
   "cell_type": "markdown",
   "metadata": {},
   "source": [
    "### Data science tools\n",
    "|Number|Name|\n",
    "|-----|-------|\n",
    "|1|ggplot2|\n",
    "|2|Apache Spark|\n",
    "|3|SPSS|\n",
    "|4|Jupyter|"
   ]
  },
  {
   "cell_type": "markdown",
   "metadata": {},
   "source": [
    "* addition: a + b\n",
    "* subtraction: a - b\n",
    "* multiplication: a * b\n",
    "* division: a / b\n",
    "* power: a ** b"
   ]
  },
  {
   "cell_type": "code",
   "execution_count": 32,
   "metadata": {},
   "outputs": [
    {
     "name": "stdin",
     "output_type": "stream",
     "text": [
      "Enter 1st number 67\n",
      "Enter 2nd number 3\n"
     ]
    },
    {
     "name": "stdout",
     "output_type": "stream",
     "text": [
      "67 + 3 =  70 \n",
      " 67 * 3 = 201\n"
     ]
    }
   ],
   "source": [
    "number1 = int(input(\"Enter 1st number\"))\n",
    "number2 = int(input(\"Enter 2nd number\"))\n",
    "add = (number1) + (number2)\n",
    "multi = (number1) * number2\n",
    "print(number1, \"+\", number2, \"= \", add,  \"\\n\", number1, \"*\", number2, \"=\", multi)"
   ]
  },
  {
   "cell_type": "code",
   "execution_count": 38,
   "metadata": {},
   "outputs": [
    {
     "name": "stdin",
     "output_type": "stream",
     "text": [
      "Specify the number of minutes 31432\n"
     ]
    },
    {
     "name": "stdout",
     "output_type": "stream",
     "text": [
      "31432 minutes = 523 hours and  52 minutes\n"
     ]
    }
   ],
   "source": [
    "minutes = int(input(\"Specify the number of minutes\"))\n",
    "hours = minutes // 60\n",
    "remainder = minutes % 60\n",
    "print(minutes, \"minutes =\", hours ,\"hours and \", remainder, \"minutes\")"
   ]
  },
  {
   "cell_type": "markdown",
   "metadata": {},
   "source": [
    "- Objectives today\n",
    "    * Complete yesterday's work\n",
    "    * Organise a team meeting\n",
    "    * Analyse the data obtained\n",
    "    * Do today's work of project"
   ]
  },
  {
   "cell_type": "markdown",
   "metadata": {},
   "source": [
    "### Author: Mykhailo Sydorenko-Bielkin"
   ]
  },
  {
   "cell_type": "code",
   "execution_count": null,
   "metadata": {},
   "outputs": [],
   "source": []
  }
 ],
 "metadata": {
  "kernelspec": {
   "display_name": "Python",
   "language": "python",
   "name": "conda-env-python-py"
  },
  "language_info": {
   "codemirror_mode": {
    "name": "ipython",
    "version": 3
   },
   "file_extension": ".py",
   "mimetype": "text/x-python",
   "name": "python",
   "nbconvert_exporter": "python",
   "pygments_lexer": "ipython3",
   "version": "3.7.12"
  }
 },
 "nbformat": 4,
 "nbformat_minor": 4
}
